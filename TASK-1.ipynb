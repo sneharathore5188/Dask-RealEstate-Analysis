{
 "cells": [
  {
   "cell_type": "markdown",
   "id": "c6a2b95a-a3f8-4e4a-b9f8-f7d2b9faaf24",
   "metadata": {},
   "source": [
    "# Real Estate Data Analysis using Dask"
   ]
  },
  {
   "cell_type": "markdown",
   "id": "cbea0b39-d19d-487a-a381-b074f7a601f1",
   "metadata": {},
   "source": [
    "### Step 1: Import Required Libraries"
   ]
  },
  {
   "cell_type": "code",
   "execution_count": 2,
   "id": "7a18ef7c-a95e-47d1-a279-7197d61dfd3d",
   "metadata": {},
   "outputs": [],
   "source": [
    "import dask.dataframe as dd\n",
    "import pandas as pd\n",
    "import matplotlib.pyplot as plt\n",
    "from dask.distributed import Client"
   ]
  },
  {
   "cell_type": "markdown",
   "id": "07a7ddff-1adb-4417-aaac-0f4dd68a9adf",
   "metadata": {},
   "source": [
    "### Step 2: Initialize Dask Client for Performance Monitoring"
   ]
  },
  {
   "cell_type": "code",
   "execution_count": 3,
   "id": "8f6c8728-01fd-4bf7-90ed-59fa1687ee92",
   "metadata": {},
   "outputs": [
    {
     "name": "stderr",
     "output_type": "stream",
     "text": [
      "C:\\Users\\sneha\\AppData\\Local\\Programs\\Python\\Python311\\Lib\\site-packages\\distributed\\node.py:187: UserWarning: Port 8787 is already in use.\n",
      "Perhaps you already have a cluster running?\n",
      "Hosting the HTTP server on port 52904 instead\n",
      "  warnings.warn(\n"
     ]
    },
    {
     "name": "stdout",
     "output_type": "stream",
     "text": [
      "<Client: 'tcp://127.0.0.1:52907' processes=4 threads=16, memory=15.70 GiB>\n"
     ]
    }
   ],
   "source": [
    "client = Client()\n",
    "print(client)"
   ]
  },
  {
   "cell_type": "markdown",
   "id": "088482d9-e8c8-4728-8e02-13527cc0c9ca",
   "metadata": {},
   "source": [
    "### Step 3: Load Dataset"
   ]
  },
  {
   "cell_type": "markdown",
   "id": "72a51b51-b58f-451f-8e0e-b7c36026028c",
   "metadata": {},
   "source": [
    "#### Load dataset using Pandas for initial inspection"
   ]
  },
  {
   "cell_type": "code",
   "execution_count": 4,
   "id": "3f768ea0-f8c5-4560-bb29-597b4a4a0e68",
   "metadata": {},
   "outputs": [
    {
     "name": "stdout",
     "output_type": "stream",
     "text": [
      "Dask DataFrame Sample:\n",
      "    Id  MSSubClass MSZoning  LotFrontage  LotArea Street Alley LotShape  \\\n",
      "0  1.0        60.0       RL         65.0   8450.0   Pave  <NA>      Reg   \n",
      "1  2.0        20.0       RL         80.0   9600.0   Pave  <NA>      Reg   \n",
      "2  3.0        60.0       RL         68.0  11250.0   Pave  <NA>      IR1   \n",
      "3  4.0        70.0       RL         60.0   9550.0   Pave  <NA>      IR1   \n",
      "4  5.0        60.0       RL         84.0  14260.0   Pave  <NA>      IR1   \n",
      "\n",
      "  LandContour Utilities  ... PoolArea PoolQC Fence MiscFeature MiscVal MoSold  \\\n",
      "0         Lvl    AllPub  ...      0.0   <NA>  <NA>        <NA>     0.0    2.0   \n",
      "1         Lvl    AllPub  ...      0.0   <NA>  <NA>        <NA>     0.0    5.0   \n",
      "2         Lvl    AllPub  ...      0.0   <NA>  <NA>        <NA>     0.0    9.0   \n",
      "3         Lvl    AllPub  ...      0.0   <NA>  <NA>        <NA>     0.0    2.0   \n",
      "4         Lvl    AllPub  ...      0.0   <NA>  <NA>        <NA>     0.0   12.0   \n",
      "\n",
      "   YrSold  SaleType  SaleCondition  SalePrice  \n",
      "0  2008.0        WD         Normal   208500.0  \n",
      "1  2007.0        WD         Normal   181500.0  \n",
      "2  2008.0        WD         Normal   223500.0  \n",
      "3  2006.0        WD        Abnorml   140000.0  \n",
      "4  2008.0        WD         Normal   250000.0  \n",
      "\n",
      "[5 rows x 81 columns]\n"
     ]
    }
   ],
   "source": [
    "dtype_mapping = {\n",
    "    'Alley': 'object',\n",
    "    'PoolQC': 'object'\n",
    "}\n",
    "df_pandas = pd.read_csv(\"train.csv\")\n",
    "df_dask = dd.read_csv(\"train.csv\", assume_missing=True, dtype=dtype_mapping)\n",
    "print(\"Dask DataFrame Sample:\")\n",
    "print(df_dask.head())"
   ]
  },
  {
   "cell_type": "markdown",
   "id": "45854990-a017-4fd0-bb36-39d543351e0c",
   "metadata": {},
   "source": [
    "### Step 4: Data Preprocessing"
   ]
  },
  {
   "cell_type": "markdown",
   "id": "02d76134-5000-429e-b02d-8a5c9090e7ec",
   "metadata": {},
   "source": [
    "#### Drop rows with missing values in important columns"
   ]
  },
  {
   "cell_type": "code",
   "execution_count": 11,
   "id": "ea08edbf-b0c9-4132-b2f6-efedf47b7306",
   "metadata": {},
   "outputs": [
    {
     "ename": "NameError",
     "evalue": "name 'df' is not defined",
     "output_type": "error",
     "traceback": [
      "\u001b[1;31m---------------------------------------------------------------------------\u001b[0m",
      "\u001b[1;31mNameError\u001b[0m                                 Traceback (most recent call last)",
      "Cell \u001b[1;32mIn[11], line 1\u001b[0m\n\u001b[1;32m----> 1\u001b[0m cleaned_df \u001b[38;5;241m=\u001b[39m \u001b[43mdf\u001b[49m\u001b[38;5;241m.\u001b[39mdropna(subset\u001b[38;5;241m=\u001b[39m[\u001b[38;5;124m\"\u001b[39m\u001b[38;5;124mSalePrice\u001b[39m\u001b[38;5;124m\"\u001b[39m, \u001b[38;5;124m\"\u001b[39m\u001b[38;5;124mMSZoning\u001b[39m\u001b[38;5;124m\"\u001b[39m])\n",
      "\u001b[1;31mNameError\u001b[0m: name 'df' is not defined"
     ]
    }
   ],
   "source": [
    "cleaned_df = df.dropna(subset=[\"SalePrice\", \"MSZoning\"])"
   ]
  },
  {
   "cell_type": "markdown",
   "id": "3c09026e-a7c9-4f45-9908-c5a5e1de0b77",
   "metadata": {},
   "source": [
    "#### Compute the cleaned dataframe"
   ]
  },
  {
   "cell_type": "code",
   "execution_count": 12,
   "id": "de47cc6d-7f10-438f-ae42-7a8f1e603048",
   "metadata": {},
   "outputs": [
    {
     "name": "stdout",
     "output_type": "stream",
     "text": [
      "Data after cleaning:\n",
      "    Id  MSSubClass MSZoning  LotFrontage  LotArea Street Alley LotShape  \\\n",
      "0  1.0        60.0       RL         65.0   8450.0   Pave  None      Reg   \n",
      "1  2.0        20.0       RL         80.0   9600.0   Pave  None      Reg   \n",
      "2  3.0        60.0       RL         68.0  11250.0   Pave  None      IR1   \n",
      "3  4.0        70.0       RL         60.0   9550.0   Pave  None      IR1   \n",
      "4  5.0        60.0       RL         84.0  14260.0   Pave  None      IR1   \n",
      "\n",
      "  LandContour Utilities  ... PoolArea PoolQC Fence MiscFeature MiscVal MoSold  \\\n",
      "0         Lvl    AllPub  ...      0.0   None  <NA>        <NA>     0.0    2.0   \n",
      "1         Lvl    AllPub  ...      0.0   None  <NA>        <NA>     0.0    5.0   \n",
      "2         Lvl    AllPub  ...      0.0   None  <NA>        <NA>     0.0    9.0   \n",
      "3         Lvl    AllPub  ...      0.0   None  <NA>        <NA>     0.0    2.0   \n",
      "4         Lvl    AllPub  ...      0.0   None  <NA>        <NA>     0.0   12.0   \n",
      "\n",
      "   YrSold  SaleType  SaleCondition  SalePrice  \n",
      "0  2008.0        WD         Normal   208500.0  \n",
      "1  2007.0        WD         Normal   181500.0  \n",
      "2  2008.0        WD         Normal   223500.0  \n",
      "3  2006.0        WD        Abnorml   140000.0  \n",
      "4  2008.0        WD         Normal   250000.0  \n",
      "\n",
      "[5 rows x 81 columns]\n"
     ]
    }
   ],
   "source": [
    "df_dask['Alley'] = df_dask['Alley'].fillna('None')  \n",
    "df_dask['PoolQC'] = df_dask['PoolQC'].fillna('None')\n",
    "\n",
    "\n",
    "cleaned_df = df_dask.compute()\n",
    "print(\"Data after cleaning:\")\n",
    "print(cleaned_df.head())\n"
   ]
  },
  {
   "cell_type": "markdown",
   "id": "30430bb6-2dae-4523-8ed8-3185fd71c54c",
   "metadata": {},
   "source": [
    "### Step 5: Perform Analysis"
   ]
  },
  {
   "cell_type": "markdown",
   "id": "f4f20b90-4046-4515-b710-4bfcb7fb8553",
   "metadata": {},
   "source": [
    "#### Calculate the average SalePrice by MSZoning"
   ]
  },
  {
   "cell_type": "code",
   "execution_count": 7,
   "id": "bc30a771-042a-48b2-bfbc-6968d405eb6a",
   "metadata": {},
   "outputs": [
    {
     "name": "stdout",
     "output_type": "stream",
     "text": [
      "Average Sale Price by Zoning:\n",
      "MSZoning\n",
      "C (all)     74528.000000\n",
      "FV         214014.061538\n",
      "RH         131558.375000\n",
      "RL         191004.994787\n",
      "RM         126316.830275\n",
      "Name: SalePrice, dtype: float64\n"
     ]
    }
   ],
   "source": [
    "avg_price_by_zone = cleaned_df.groupby(\"MSZoning\")[\"SalePrice\"].mean()\n",
    "print(\"Average Sale Price by Zoning:\")\n",
    "print(avg_price_by_zone)"
   ]
  },
  {
   "cell_type": "markdown",
   "id": "41005c06-1108-459a-92db-a14b93d8b3d4",
   "metadata": {},
   "source": [
    "### Step 6: Generate Insights with Visualization"
   ]
  },
  {
   "cell_type": "code",
   "execution_count": 8,
   "id": "c847ba2f-1a3e-4891-9cde-ccd3e1e6edbb",
   "metadata": {},
   "outputs": [
    {
     "data": {
      "image/png": "[encoded data removed]",
      "text/plain": [
       "<Figure size 800x500 with 1 Axes>"
      ]
     },
     "metadata": {},
     "output_type": "display_data"
    }
   ],
   "source": [
    "plt.figure(figsize=(8, 5))\n",
    "plt.bar(avg_price_by_zone.index, avg_price_by_zone.values, color='skyblue')\n",
    "plt.xlabel(\"Zoning Category\")\n",
    "plt.ylabel(\"Average Sale Price\")\n",
    "plt.title(\"Average Sale Price by Zoning Category\")\n",
    "plt.xticks(rotation=45)\n",
    "plt.show()"
   ]
  },
  {
   "cell_type": "markdown",
   "id": "3c61b91b-68a3-4ea7-9a9a-419f3c93004a",
   "metadata": {},
   "source": [
    "### Step 7: Summary of Insights"
   ]
  },
  {
   "cell_type": "code",
   "execution_count": 9,
   "id": "eb2b3c85-6972-42b1-8100-770e9e7a116c",
   "metadata": {},
   "outputs": [
    {
     "name": "stdout",
     "output_type": "stream",
     "text": [
      "Key Insights:\n",
      "1. The dataset contains different zoning categories impacting sale prices.\n",
      "2. The bar chart illustrates how average sale prices vary by zoning.\n"
     ]
    }
   ],
   "source": [
    "print(\"Key Insights:\")\n",
    "print(\"1. The dataset contains different zoning categories impacting sale prices.\")\n",
    "print(\"2. The bar chart illustrates how average sale prices vary by zoning.\")"
   ]
  },
  {
   "cell_type": "markdown",
   "id": "228a4d8e-2ff6-49cf-b65c-24e6b33692e9",
   "metadata": {},
   "source": [
    "### Stop the Dask Client"
   ]
  },
  {
   "cell_type": "code",
   "execution_count": 10,
   "id": "5beecdde-e6ce-4dad-aee3-2d1c94298ec2",
   "metadata": {},
   "outputs": [
    {
     "name": "stdout",
     "output_type": "stream",
     "text": [
      "Dask client stopped.\n"
     ]
    }
   ],
   "source": [
    "client.close()\n",
    "print(\"Dask client stopped.\")"
   ]
  }
 ],
 "metadata": {
  "kernelspec": {
   "display_name": "Python 3 (ipykernel)",
   "language": "python",
   "name": "python3"
  },
  "language_info": {
   "codemirror_mode": {
    "name": "ipython",
    "version": 3
   },
   "file_extension": ".py",
   "mimetype": "text/x-python",
   "name": "python",
   "nbconvert_exporter": "python",
   "pygments_lexer": "ipython3",
   "version": "3.11.9"
  }
 },
 "nbformat": 4,
 "nbformat_minor": 5
}
